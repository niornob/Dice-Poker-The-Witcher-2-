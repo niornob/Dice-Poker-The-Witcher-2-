{
 "cells": [
  {
   "cell_type": "markdown",
   "metadata": {},
   "source": [
    "# Premise\n",
    "[_The Witcher 2_](http://thewitcher.com/en/witcher2) has a mini ingame that can be played with some of the NPCs, called _Dice_. The game is played between two players. At the beginning both players bet some money, then each of them rolls 5 (6 sided) dices. Both can see the other's dices. After the dices have been rolled, bets can be raised and then each player chooses between 0 and 5 (inclusive) of his/her dices to roll a second time. Once both players have rolled dices a second time, a winner or a tie is decided based on some set of rules that assign ranking to a collection of 5 dices. Detailed rules can be found in the [game's wiki](http://witcher.wikia.com/wiki/Dice_poker_in_The_Witcher_2)."
   ]
  },
  {
   "cell_type": "markdown",
   "metadata": {},
   "source": [
    "From the [wiki](http://witcher.wikia.com/wiki/Dice_poker_in_The_Witcher_2), the winning combinations are (highest to lowest):\n",
    "1. __Five-of-a-kind__ - five dice showing the same value\n",
    "2. __Four-of-a-kind__ - four dice showing the same value\n",
    "3. __Full House__ - a pair and a three-of-a-kind\n",
    "4. __Six-high straight__ - dice showing II, III, IV, V and VI\n",
    "5. __Five-high straight__ - dice showing I, II, III, IV and V\n",
    "6. __Three-of-a-kind__ - three dice showing the same value\n",
    "7. __Two pairs__ - dice showing two matched pairs of values\n",
    "8. __One pair__ - dice showing a single matched pair of values\n",
    "9. __Nothing__ - none of the above\n",
    "\n",
    "\n",
    "Some of the terminology that we use throughout this notebook include:\n",
    "* __Hand__ - A collection of 5 dices, or 5 integers, each valued in the set {1, 2, 3, 4, 5, 6}.\n",
    "* __State__ - State of a hand is one of the 9 types described in the above list, to which the hand belongs.\n",
    "* __Face value__ - The sum of the integers in a hand is its face value.\n",
    "* __Score__ - Score of a hand includes its state and its face value.\n",
    "\n",
    "Two hands are first compared by their states, in the event that two hands have the same state they are compared by their face values, in which case the higher face value wins."
   ]
  },
  {
   "cell_type": "markdown",
   "metadata": {},
   "source": [
    "# Initialization\n",
    "Let us begin by loading all the necessary modules."
   ]
  },
  {
   "cell_type": "code",
   "execution_count": 1,
   "metadata": {
    "collapsed": true
   },
   "outputs": [],
   "source": [
    "if(__name__ == '__main__'):\n",
    "    %matplotlib inline\n",
    "import numpy as np\n",
    "import matplotlib.pyplot as plt\n",
    "import time\n",
    "from itertools import permutations\n",
    "from pandas import DataFrame, Series, pivot_table\n",
    "from scipy.interpolate import InterpolatedUnivariateSpline\n",
    "from scipy.special import factorial\n",
    "import random\n",
    "random.seed()"
   ]
  },
  {
   "cell_type": "markdown",
   "metadata": {},
   "source": [
    "We shall assign a rank to each of the 9 winning combinations."
   ]
  },
  {
   "cell_type": "code",
   "execution_count": 2,
   "metadata": {
    "collapsed": true
   },
   "outputs": [],
   "source": [
    "# Each state will carry an integer weight\n",
    "state_rank = {'Five of a Kind':8, 'Four of a Kind':7, 'Full House':6, 'Six High Straight':5, \\\n",
    "               'Five High Straight':4, 'Three of a Kind':3, 'Two Pairs':2, 'Pair':1, 'Nothing':0}"
   ]
  },
  {
   "cell_type": "markdown",
   "metadata": {},
   "source": [
    "We shall aslo define a data type to contain scores and allow comparison."
   ]
  },
  {
   "cell_type": "code",
   "execution_count": 3,
   "metadata": {
    "collapsed": true
   },
   "outputs": [],
   "source": [
    "# \"Score\" is a data type defined by a state and a face value. It provides access to both of these and allows\n",
    "# comparison between different scores.\n",
    "class Score:\n",
    "    def __init__(self, state, value):\n",
    "        assert(state in state_rank)\n",
    "        \n",
    "        self.state = state\n",
    "        self.face_value = value\n",
    "        \n",
    "    def rank(self):\n",
    "        return state_rank[self.state]\n",
    "    \n",
    "    def rank_fine(self):\n",
    "        return self.rank() + (self.face_value-sum([1,2,3,4,6]))/30\n",
    "    \n",
    "    def pair_form(self):\n",
    "        return self.state, self.face_value\n",
    "        \n",
    "    def __repr__(self):\n",
    "        len_offset = len('Five High Straight') - len(self.state)\n",
    "        len_offset = ''.join([' ']*len_offset)\n",
    "        return len_offset + self.state + ' - ' + 'Rank: ' + str(self.rank()) + ', Face value: ' + str(self.face_value)\n",
    "    \n",
    "    def __lt__(self, other):\n",
    "        return self.rank_fine() < other.rank_fine()\n",
    "        \n",
    "    def __le__(self, other):\n",
    "        return self.rank_fine() <= other.rank_fine()\n",
    "        \n",
    "    def __eq__(self, other):\n",
    "        return self.rank_fine() == other.rank_fine()\n",
    "    \n",
    "    def __ge__(self, other):\n",
    "        return self.rank_fine() >= other.rank_fine()\n",
    "        \n",
    "    def __gt__(self, other):\n",
    "        return self.rank_fine() > other.rank_fine()\n",
    "        \n",
    "    def __ne__(self, other):\n",
    "        return self.rank_fine() != other.rank_fine()\n",
    "    \n",
    "    def __hash__(self):\n",
    "        return int(self.rank_fine() * 100)\n",
    "\n",
    "# \"sign_score\" compares two \"Score\"s, score1 and score2, and returns 1, 0, and -1 \n",
    "# if score1 > score2, score1 == score2, and score1 < score2 respectively.\n",
    "def sign_score(score1, score2):\n",
    "    assert(type(score1) == Score and type(score2) == Score)\n",
    "    \n",
    "    if score1 == score2:\n",
    "        return 0\n",
    "    elif score1 > score2:\n",
    "        return 1\n",
    "    else:\n",
    "        return -1"
   ]
  },
  {
   "cell_type": "markdown",
   "metadata": {},
   "source": [
    "# Some Core Functions\n",
    "The purpose of this section is to define a function (called `chances`) which, given a hand and the dices to roll a second time, generates all the possible outcomes along with their likelihodd.\n",
    "\n",
    "First we need a function that evaluates the score of a given hand."
   ]
  },
  {
   "cell_type": "code",
   "execution_count": 4,
   "metadata": {
    "collapsed": true
   },
   "outputs": [],
   "source": [
    "# Given a length 5 string \"dices\" containing numerals only, the function \"frequencies\" outputs a list containing \n",
    "# 5 integers, the n'th integer in the output is the frequency of the n'th number in \"dices\". Therefore, if an integer\n",
    "# k appears in the output of \"frequencies\", it appear at least k times.\n",
    "def frequencies(dices):\n",
    "    assert(type(dices) == str and len(dices) == 5 and dices.isdigit())\n",
    "    \n",
    "    dice_list = [int(c) for c in dices]\n",
    "    freqs = [dice_list.count(dice) for dice in dice_list]\n",
    "    \n",
    "    return freqs\n",
    "\n",
    "# The evaluate function takes as inputs a Pattern object and outputs the score (as a Score object) of the hand\n",
    "# represented by the Pattern object.\n",
    "def evaluate(dices):\n",
    "    assert(type(dices) == str and len(dices) == 5 and dices.isdigit())\n",
    "    \n",
    "    freq = frequencies(dices)\n",
    "    face_value = sum([int(c) for c in dices])\n",
    "    \n",
    "    if 5 in freq:\n",
    "        return Score('Five of a Kind', face_value)\n",
    "    \n",
    "    if 4 in freq:\n",
    "        return Score('Four of a Kind', face_value)\n",
    "    \n",
    "    if 3 in freq and 2 in freq:\n",
    "        return Score('Full House', face_value)\n",
    "    \n",
    "    if 1 in freq and freq.count(1) == 5:\n",
    "        six_high_face_value = sum([2,3,4,5,6])\n",
    "        five_high_face_value = sum([1,2,3,4,5])\n",
    "        if face_value == six_high_face_value:\n",
    "            return Score('Six High Straight', face_value)\n",
    "        elif face_value == five_high_face_value:\n",
    "            return Score('Five High Straight', face_value)\n",
    "        \n",
    "    if 3 in freq:\n",
    "        return Score('Three of a Kind', face_value)\n",
    "    \n",
    "    if 2 in freq:\n",
    "        if freq.count(2) == 4:\n",
    "            return Score('Two Pairs', face_value)\n",
    "        else:\n",
    "            return Score('Pair', face_value)\n",
    "        \n",
    "    return Score('Nothing', face_value)"
   ]
  },
  {
   "cell_type": "code",
   "execution_count": 5,
   "metadata": {
    "collapsed": true
   },
   "outputs": [],
   "source": [
    "# \"Hand\" is a data type containig all the information of a hand. It sole attribute is \"pattern\", which is a\n",
    "# length 5 string containing only numerals.\n",
    "# \"Hand\" has several useful methods that provides various metrics along with a method (\"dice_list\") which just\n",
    "# returns a list of the characters in \"pattern\".\n",
    "class Hand:\n",
    "    def __init__(self, pattern):\n",
    "        assert(type(pattern) == str and len(pattern) == 5 and pattern.isdigit())\n",
    "        \n",
    "        self.pattern = pattern\n",
    "        \n",
    "    def dice_list(self):\n",
    "        return [c for c in self.pattern]\n",
    "    \n",
    "    def score(self):\n",
    "        return evaluate(self.pattern)\n",
    "    \n",
    "    def state(self):\n",
    "        return self.score().state\n",
    "    \n",
    "    def face_value():\n",
    "        return self.score().face_value\n",
    "    \n",
    "    def rank(self):\n",
    "        return self.score().rank()\n",
    "    \n",
    "    def __repr__(self):\n",
    "        return self.pattern\n",
    "    \n",
    "# The \"roll\" function generates a random \"Hand\" object. This comes useful in diagnostics.\n",
    "def roll():\n",
    "    return Hand(''.join([str(random.randint(1,6)) for i in range(5)]))"
   ]
  },
  {
   "cell_type": "code",
   "execution_count": 6,
   "metadata": {
    "collapsed": true
   },
   "outputs": [],
   "source": [
    "# \"outcomes\" takes in an integer -1 < n < 6 and generates all possible outcomes of rolling n six-sided dices.\n",
    "# Each possible outcome is represnted by a length 5 string containing only numerals.\n",
    "def outcomes(n):\n",
    "    assert(type(n) == int and n < 6 and n > -1)\n",
    "    \n",
    "    outcomes_set = {''.join(outcome) for outcome in permutations('111112222233333444445555566666', n)}\n",
    "    return np.array(list(outcomes_set))\n",
    "\n",
    "# \"outcome\" is a costly function, therefore it's significantly more efficient to generate all possible outcomes of\n",
    "# rolling 0, 1, ..., 5 dices and store them in a list. \"Outcome[n]\" for -1 < n < 6 is a list containing all\n",
    "# possible outcomes of rolling n six-sided dices.\n",
    "Outcomes = [outcomes(i) for i in range(6)]"
   ]
  },
  {
   "cell_type": "code",
   "execution_count": 7,
   "metadata": {
    "collapsed": true
   },
   "outputs": [],
   "source": [
    "# \"second_roll_states\" takes in a \"Hand\" object and a list (called \"to_roll\") of positions of dices to roll,\n",
    "# then it outputs a \"DataFrame\" object with one column titled \"Score\" which contains the scores (as \"Score\" objects)\n",
    "# of all possible outcomes of rolling the dices in \"to_roll\". The positions of the 5 dices are counted as 0, ..., 4.\n",
    "def second_roll_states(hand, to_roll=[]):\n",
    "    assert(type(hand) == Hand)\n",
    "    assert(type(to_roll) == list and len(to_roll) < 6)\n",
    "    \n",
    "    fixed_positions = set([0,1,2,3,4]) - set(to_roll)\n",
    "    fixed_dices = ''.join([hand.dice_list()[i] for i in fixed_positions])\n",
    "    local_outcomes = Outcomes[len(to_roll)]\n",
    "    global_outcomes = np.vectorize(lambda x: evaluate(fixed_dices + x))(local_outcomes)\n",
    "    return DataFrame(global_outcomes, columns=['Score'])"
   ]
  },
  {
   "cell_type": "code",
   "execution_count": 8,
   "metadata": {
    "collapsed": true
   },
   "outputs": [],
   "source": [
    "# \"chances\" takes in a \"Hand\" object and a list of positions of dices to roll (called \"to_roll\"), then it outputs\n",
    "# a \"DataFrame\" object with 3 columns, \"Score\", \"Probability\", and \"Improvement\". The \"Score\" column contains all\n",
    "# the possible scores that can arise after rolling the dices in \"to_roll\". The \"Probability\" column contains the\n",
    "# probabilities of the corresonding scores. Finally, the \"Improvement\" column contains 1 if the corresonding score\n",
    "# is an improvement over the current (before rolling the dices in \"to_roll\") score, 0 if it's the same, and -1 if\n",
    "# it's a downgrade. The output \"DataFrame\" of \"chances\" is sorted descendingly according to the \"Score\" column.\n",
    "def chances(hand, to_roll=[]):\n",
    "    assert(type(hand) == Hand)\n",
    "    assert(type(to_roll) == list and len(to_roll) < 6)\n",
    "    \n",
    "    states = second_roll_states(hand, to_roll)\n",
    "    total = states.shape[0]\n",
    "    hand_score = evaluate(hand.pattern)\n",
    "    \n",
    "    state_probabilities = states['Score'].value_counts()/total\n",
    "    chance_table = DataFrame(np.array([state_probabilities.index, state_probabilities.values]).T, columns=['Score', 'Probability'])\n",
    "    chance_table['Improvement'] = np.vectorize(lambda x: sign_score(x, hand_score))(chance_table['Score'])\n",
    "    \n",
    "    return chance_table.sort_values('Score', ascending=False)"
   ]
  },
  {
   "cell_type": "markdown",
   "metadata": {},
   "source": [
    "A sample output of `chances`, when we roll two dices a second time, is the following:"
   ]
  },
  {
   "cell_type": "code",
   "execution_count": 9,
   "metadata": {},
   "outputs": [
    {
     "name": "stdout",
     "output_type": "stream",
     "text": [
      "Hand: 66653, Current score: Three of a Kind - Rank: 3, Face value: 26\n",
      "To roll: [4, 2]\n"
     ]
    }
   ],
   "source": [
    "if(__name__ == '__main__'):\n",
    "    hand = ''.join([str(random.randint(1,6)) for i in range(5)])\n",
    "    to_roll = [int(x) for x in list(permutations('01234', 2))[random.randint(0,19)]] # 20 = 5P2 = 5!/(5-2)!\n",
    "    print('Hand: ' + hand + ', Current score: ' + str(evaluate(hand)))\n",
    "    print('To roll: ' + str(to_roll))\n",
    "    chances(Hand(hand), to_roll)"
   ]
  },
  {
   "cell_type": "markdown",
   "metadata": {},
   "source": [
    "# Greedy Optimization\n",
    "The purpose of this section is to define a fucntion which outputs a set of dices to roll _without_ seeing the opponent's hand. This function will therefore simply try to maximize (in some probabilistic sense) the score of one's hand. Note that this strategy is not always optimum. For example, if my hand is '22234' and the opponent's hand is '55555', my optimum choice is to roll all my dices, but surely this is a choice a greedy score maximizer will never make. Apart from such cases where my chances of winning are slim, a good score maximizer should work almost optimally. We will also define the optimizer function later on, but this greedy maximizer will always be much faster, albeit occassionally incorrect, than the optimizer. We will also perform a test to see how well the greedy maximizer works.\n",
    "\n",
    "This section, the construction of the greedy maximizer, is mostly wishful thinking, the only evidence for why our maximizer is not a terrible choice will be circumstantial."
   ]
  },
  {
   "cell_type": "markdown",
   "metadata": {},
   "source": [
    "## In search of a metric\n",
    "We aim to define a function that, given a hand (a set of 5 integers each valued in {1,2,3,4,5,6}), tries to find the choice of dices to roll which will \"maximize\" our score. To that end, first we need a metric that can be assigned to each choice, and based on which we can make \"the best\" choice. For each choice (except the trivial one where we don't roll anything) we have a table of possible scores and their corresponding probabilities (the output of \"chances\"). We need to defien a metric that takes into consideration all these possible scores and their probabilities. Let us describe the type of formula we have in mind:\n",
    "\n",
    " Let $H$ be the set of all possible hands, i.e.:\n",
    "$$ H = S^5\\,, \\quad \\mbox{where} \\quad S = \\{1,2,3,4,5,6\\}\\,. $$\n",
    "Given a hand $h$, let us define its rank and face value as $r(h)$ and $v(h)$ respectively. Note that, for any $h$, $r(h) \\in \\{0, 1, \\cdots, 8\\}$ and $v(h) \\in [5, 30]$ with $v(h) = 30$ only for $h = 66666$. A hand $h_1$ is bettern than another hand $h_2$ if $r(h_1) > r(h_2)$, regardless of the values of $v(h_1)$ and $v(h_2)$. In case of $r(h_1) = r(h_2)$ comparison is madebased on $v$. Let us define a function that fascilitates comparison of hands:\n",
    "$$ f(h) := r(h) + \\frac{v(h) - 16}{30}\\,, $$\n",
    "The important property of this function is that:\n",
    "$$ \\forall h_1, h_2 \\in H\\,, \\quad f(h_1) < f(h_2) \\mbox{ if and only if $h_2$ wins over $h_1$}\\,. $$\n",
    "The reason we have subtracted 16 from $v(h)$ is that, 16 is the face value of the hand 12346, which is the hand that can never win and we are defining $f$ such that it returns zero for this hand. We will look at the hands through the filter of $f$ from now on. So let us define:\n",
    "$$ H_f := f(H)\\,. $$\n",
    "No information regarding the order in $H$ has been lost in $H_f$ and $H_f$ is much easier to handle in computations since it's entries are all just real numbers. Note that the `rank_fine()` method of the `Score` data type returns precisely the $f$-value associated to the score.\n",
    "\n",
    "This function $f$ is clearly a measure of strength for a hand, but it's not a particularly good measure. Roughly speaking, a good measure is one that scales linearly with how likely a hand is to win. How likely a hand is to win should roughly be inversely proportional to how likely a hand is to appear randomly. In practice however, it appears that likelihood of a hand (seen through the filter of $f$) is not monotonically related to its strength. Consider the following graph:"
   ]
  },
  {
   "cell_type": "code",
   "execution_count": 10,
   "metadata": {},
   "outputs": [
    {
     "data": {
      "image/png": "[encoded data removed]",
      "text/plain": [
       "<matplotlib.figure.Figure at 0x20c0ef5aef0>"
      ]
     },
     "metadata": {},
     "output_type": "display_data"
    }
   ],
   "source": [
    "rankVprob = chances(Hand('11111'), [0,1,2,3,4])\n",
    "x = np.vectorize(lambda x: x.rank_fine())(rankVprob['Score'])\n",
    "\n",
    "if(__name__ == '__main__'):\n",
    "    plt.plot(x, rankVprob['Probability'], '-')\n",
    "    plt.xticks(range(0,10))\n",
    "    plt.xlabel(r'$x \\in H_f$', fontsize=13)\n",
    "    plt.ylabel(r'$P(x)$', fontsize=13)\n",
    "    plt.show()"
   ]
  },
  {
   "cell_type": "markdown",
   "metadata": {},
   "source": [
    "In the above graph, the x-axis represents the numbers in $H_f$ and the y-axis is the corresponding likelihood of getting a hand with that $f$-value at random. We can see a large scale trend of exponential decay, which is sensible, it means that (very roughly), the higher $f$-value we get the more (exponentially) likely we are to win. To get a better view at the exponential decay let us clear up the above graph a bit by taking average of all the $f$-values that correspond to the same rank."
   ]
  },
  {
   "cell_type": "code",
   "execution_count": 11,
   "metadata": {},
   "outputs": [
    {
     "data": {
      "image/png": "[encoded data removed]",
      "text/plain": [
       "<matplotlib.figure.Figure at 0x20c0ee02518>"
      ]
     },
     "metadata": {},
     "output_type": "display_data"
    }
   ],
   "source": [
    "rankVprob_lim = rankVprob.copy()\n",
    "rankVprob_lim['Score'] = np.vectorize(lambda x: x.rank())(rankVprob_lim['Score'])\n",
    "rankVprob_lim['Probability'] = rankVprob_lim['Probability'].astype(float)\n",
    "rankVprob_lim = pivot_table(rankVprob_lim, values='Probability', index=['Score'], aggfunc=np.mean)\n",
    "rankVprob_lim = Series(rankVprob_lim['Probability'], index=rankVprob_lim.index)\n",
    "\n",
    "if(__name__ == '__main__'):\n",
    "    plt.plot(rankVprob_lim.index, rankVprob_lim.values, 'o-')\n",
    "    plt.xlabel(r'$x \\in \\{0, \\cdots, 8\\}$', fontsize=13)\n",
    "    plt.ylabel(r'$\\mathrm{Avg.}_{f(h),\\, r(h) = x}\\, P(f(h))$', fontsize=15)\n",
    "    plt.show()"
   ]
  },
  {
   "cell_type": "markdown",
   "metadata": {},
   "source": [
    "There are still few data points that contradict the exponential decay, we can manually get rid of them and then use interpolation to get an exponential function. We then compare this function to the original plot."
   ]
  },
  {
   "cell_type": "code",
   "execution_count": 12,
   "metadata": {},
   "outputs": [
    {
     "data": {
      "image/png": "[encoded data removed]",
      "text/plain": [
       "<matplotlib.figure.Figure at 0x20c0f5ee3c8>"
      ]
     },
     "metadata": {},
     "output_type": "display_data"
    }
   ],
   "source": [
    "# The mask will get rid of the discrepant values\n",
    "mask = [False, True, True, True, False, False, True, True, True]\n",
    "rankVprob_nonAnom = rankVprob_lim.iloc[mask]\n",
    "\n",
    "x_nonAnom = np.array(rankVprob_nonAnom.index)\n",
    "y_nonAnom = np.array(rankVprob_nonAnom.values)\n",
    "\n",
    "# Though we said that the function we are looking for looks exponential, for approximation purposes a cubic\n",
    "# interpolation (or even a quadratic one) works just fine.\n",
    "rank_fines = np.vectorize(lambda x: x.rank_fine())(rankVprob['Score'])\n",
    "x_shift = []\n",
    "for i in range(9):\n",
    "    mean_i = i\n",
    "    slice_i = rank_fines[np.vectorize(bool)(np.array(rank_fines >= i) * np.array(rank_fines < i+1))]\n",
    "    if len(slice_i) > 0:\n",
    "        mean_i = np.mean(slice_i)\n",
    "    x_shift.append(mean_i - i)\n",
    "pi = InterpolatedUnivariateSpline(x_nonAnom+np.array(x_shift)[mask], y_nonAnom, k=3)\n",
    "# pi as defined in the above line will be used later, so it's crucial to keep this definition intact\n",
    "# in form and substance throughout the notebook.\n",
    "\n",
    "x_all = np.vectorize(lambda x: x.rank_fine())(rankVprob['Score'])\n",
    "# x_all as defined in the above line will be used later, so it's crucial to keep this definition intact\n",
    "# in form and substance throughout the notebook.\n",
    "\n",
    "if(__name__ == '__main__'):\n",
    "    y_old = rankVprob['Probability']\n",
    "    y_new = pi(x_all)\n",
    "\n",
    "    plt.plot(x_all, y_new, '-', label='Interpolated function, $\\pi$')\n",
    "    plt.plot(x_all, y_old, '--', label='Actual probability')\n",
    "    plt.xticks(range(0,10))\n",
    "    plt.legend(loc='upper center', fontsize=13)\n",
    "    plt.xlabel(r'$x \\in H_f$', fontsize=13)\n",
    "    plt.show()"
   ]
  },
  {
   "cell_type": "markdown",
   "metadata": {},
   "source": [
    "Our approximation looks OK, now we want to define a measure of strength $\\phi: H_f \\to \\mathbb R$ for any hand $h$ which is the inverse of this approximated function, i.e.,\n",
    "$$ \\phi(f(h)) := \\frac{1}{\\pi(f(h))}\\,. $$"
   ]
  },
  {
   "cell_type": "code",
   "execution_count": 13,
   "metadata": {
    "collapsed": true
   },
   "outputs": [],
   "source": [
    "def phi(rank):\n",
    "    # This definition relies on pi and x_all that were defined previously, outside this function. This is not\n",
    "    # in general a good idea. Defining pi inside this function would slow things down. I should save the data\n",
    "    # of pi and x_all to a separate file and then import it.\n",
    "    # We are going to define phi with a slight modification, we will insert a small number in the denominator\n",
    "    # in addition to pi. The reason is that this allows us to avoid erratic behavious near the highest f-values\n",
    "    # that would otherwise be cause by tiny outputs of pi.\n",
    "    epsilon = 0.0001\n",
    "    \n",
    "    return 1/(pi(rank)+epsilon)"
   ]
  },
  {
   "cell_type": "markdown",
   "metadata": {},
   "source": [
    "Expectedly, this measure looks roughly exponential (cubic perhaps, but who can tell just by eyeballing!)."
   ]
  },
  {
   "cell_type": "code",
   "execution_count": 14,
   "metadata": {},
   "outputs": [
    {
     "data": {
      "image/png": "[encoded data removed]",
      "text/plain": [
       "<matplotlib.figure.Figure at 0x20c1072a6d8>"
      ]
     },
     "metadata": {},
     "output_type": "display_data"
    }
   ],
   "source": [
    "if(__name__ == '__main__'):\n",
    "    x = np.linspace(0, 8.47, num=50, endpoint=True)\n",
    "    plt.plot(x, np.vectorize(phi)(x))\n",
    "    plt.xticks(range(0,10))\n",
    "    plt.xlabel('$x$', fontsize=13)\n",
    "    plt.ylabel('$\\phi(x)$', fontsize=13)\n",
    "    plt.show()"
   ]
  },
  {
   "cell_type": "markdown",
   "metadata": {},
   "source": [
    "Having defined a measure of strength from the $f$-value of a hand $h$, we can proceed with our attempt at defining a metric for the choices of subsets $s \\subseteq h$ to roll. The metric we want should have the following interpretation:\n",
    "> The value of the metric for a subset $s \\subseteq h$ should give us a measure of by how much we can expect the $f$-value of the hand to change if we roll the dices in $s$.\n",
    "\n",
    "If for a hand $h$ and a subset $s \\subseteq h$, we denote by $R_h(s) \\subseteq H$ the set of all possible outcomes after rolling the dices in $s$, then a good metric value for the subset $s$ can be something like the following expectation value:\n",
    "$$ \\mathbb E^\\rho_{\\xi \\in f(R_h(s))} \\big(\\xi - f(h)\\big)\\,, $$\n",
    "where $\\rho$ denotes a choice of probability distribution on the domain $f(R_h(s))$. Our goal then is to make a judicious choice of the distribution $\\rho$ which will in general depend on both $h$ and $s$.\n",
    "\n",
    "Note that, $\\phi$ allows us to compare two $f$-values relative to each other, i.e., for two hands $h_1$ and $h_2$, the ratio $\\frac{\\phi(f(h_1))}{\\phi(f(h_2))}$ tells us how much stronger the hand $h_1$ is compared to $h_2$. Therefore this ratio is a good weight to assign to $f(h_1)$ relative to $f(h_2)$, except, for weights less than 1, we still wish to view them as exponentially larger than 1 but with a negative sign. To that end we dfine:\n",
    "$$ \\forall h, \\in H\\; \\mbox{and}\\; \\xi \\in H_f, \\quad \\phi_{h}(\\xi) := \\left(\\frac{\\phi(\\xi)}{\\phi(f(h))} \\right)^{\\mathrm{sgn}\\left(\\xi-f(h)\\right)}\\,,$$\n",
    "We should normalize this weight, let us introduce a notation for normalization: for any function $\\psi: A \\to B$ between any two sets $A$ and $B$, given a subset $C \\subseteq A$, we denote by $N_C(\\psi)$ a normalized function $N_C(\\psi) : C \\to B$, such that:\n",
    "$$ \\forall \\xi \\in C\\,, \\quad N_C(\\psi)(\\xi) := \\frac{\\psi(\\xi)}{\\sum_{\\zeta \\in C} \\psi(\\zeta)}\\,. $$\n",
    "Our normalized weight now becomes $N_{f(R_h(s))}(\\phi_{h})$.\n",
    "\n",
    "We have an interesting distribution in $N_{f(R_h(s))}(\\phi_{h})$, but the proper choice should also involve the probability distribution of the possible outcomes ($f$-values), which we denote by $P$. Finally, our ansatz for the proper distribution over $f(R_h(s))$ is:\n",
    "$$ \\rho_{h,s} := N_{f(R_h(s))}\\left(N_{f(R_h(s))}(\\phi_{h}) P\\right)\\,. $$\n",
    "With this our choice of metric becomes:\n",
    "$$ \\forall h \\in H,\\, s \\subseteq h, \\quad g_h(s) := \\mathbb E^{\\rho_{h,s}}_{\\xi \\in f(R_h(s))} \\big(\\xi - f(h) \\big)\\,.$$\n",
    "\n",
    "In the following we implement this metric and call it `base_score`."
   ]
  },
  {
   "cell_type": "code",
   "execution_count": 15,
   "metadata": {
    "collapsed": true
   },
   "outputs": [],
   "source": [
    "# \"base_score\" takes as input a \"Hand\" object and a list containing the positions of the dices to roll,\n",
    "# called \"to_roll\". The output of \"base_score\" is a real number which is the value of the metric defined\n",
    "# just above. The optional argument \"diag\" provides some diagnostic plots to see how the scorings behave.\n",
    "def base_score(hand, to_roll=[], diag=False):\n",
    "    assert(type(hand) == Hand and len(hand.pattern) == 5)\n",
    "    \n",
    "    prospect = chances(hand, to_roll)\n",
    "    size = prospect.shape[0]\n",
    "    current_weight = phi(hand.score().rank_fine())\n",
    "    weights = np.vectorize(phi)(np.vectorize(lambda x: x.rank_fine())(prospect['Score'])) / current_weight\n",
    "    weights = weights ** prospect['Improvement']\n",
    "    weights /= sum(weights)\n",
    "    nu_weights = weights * prospect['Probability']\n",
    "    nu_weights /= sum(nu_weights)\n",
    "    possible_scores = np.vectorize(lambda x: x.rank_fine())(prospect['Score'])\n",
    "    current_score = hand.score().rank_fine()\n",
    "    \n",
    "    if(diag):\n",
    "        #print(DataFrame(weights, index=possible_scores))\n",
    "        _, (ax1, ax2) = plt.subplots(1,2, figsize=(15,4))\n",
    "        ax1.plot(possible_scores, weights, 'o-', label='Normalized weight, $N_{f(R_h(s))}(\\phi_{h,2})$')\n",
    "        ax1.plot(possible_scores, prospect['Probability'], '--', label='Probability')\n",
    "        ax1.set_xlabel('Possible $f$-values')\n",
    "        ax1.legend(loc='upper center', bbox_to_anchor=(.5, 1.28), fontsize=13)\n",
    "        ax1.axvline(x=hand.score().rank_fine(), color='k')\n",
    "        \n",
    "        ax2.plot(possible_scores, nu_weights, 'o-')\n",
    "        ax2.set_xlabel('Possible $f$-values')\n",
    "        ax2.set_ylabel('Probability adjusted weight')\n",
    "        ax2.axvline(x=hand.score().rank_fine(), color='k')\n",
    "        \n",
    "        plt.show()\n",
    "        \n",
    "    return sum(nu_weights * (possible_scores - current_score))"
   ]
  },
  {
   "cell_type": "markdown",
   "metadata": {},
   "source": [
    "Example of how the scoring works for a random hand and a random subset to roll. The black line in the plots is at the position corresponding to the $f$-value of the current hand (prior to rolling the dices in $s$)."
   ]
  },
  {
   "cell_type": "code",
   "execution_count": 16,
   "metadata": {},
   "outputs": [
    {
     "name": "stdout",
     "output_type": "stream",
     "text": [
      "Hand (h) = 36433, to_roll (s) = [4, 1, 3]\n"
     ]
    },
    {
     "data": {
      "image/png": "[encoded data removed]",
      "text/plain": [
       "<matplotlib.figure.Figure at 0x20c1079e518>"
      ]
     },
     "metadata": {},
     "output_type": "display_data"
    }
   ],
   "source": [
    "if(__name__ == '__main__'):\n",
    "    hand = roll()\n",
    "    n = 3\n",
    "    to_roll = [int(x) for x in list(permutations('01234', n))[random.randint(0, factorial(5)/factorial(5-n) - 1)]] # 5Pn = 5!/(5-n)!\n",
    "    print('Hand (h) = ' + str(hand) + ', to_roll (s) = ' + str(to_roll))\n",
    "    base_score(hand, to_roll, diag=True)"
   ]
  },
  {
   "cell_type": "markdown",
   "metadata": {},
   "source": [
    "## The greedy choice\n",
    "Once we have this metric, we can simply define the greedy optimizer $\\mathcal O_0: h \\to h^2$ to be a function that chooses a subset $s \\subseteq h$ that maximizes it:\n",
    "$$ \\mathcal O_0(h) := \\underset{s \\in h^2}{\\mathrm{argmax}}\\, g_h(s)\\,. $$\n",
    "Let us now implement this greedy optimizer."
   ]
  },
  {
   "cell_type": "code",
   "execution_count": 17,
   "metadata": {
    "collapsed": true
   },
   "outputs": [],
   "source": [
    "# Rolling all 5 dices is an optimum choice only if the opponent has a '5 of a kind' of n and\n",
    "# I don't have any dice of value >= n. I will ignore this possibility since it's easy to handle\n",
    "# these cases manually and they are too costly for the program.\n",
    "# The function \"second_choices\" outputs a list of lists. The sublists are lists of positions (from 0 to 4)\n",
    "# and represents the dices to roll.\n",
    "def second_choices():\n",
    "    choices = []\n",
    "    for i in range(0,31):\n",
    "        bini = bin(i)[2:]\n",
    "        #if(bini.count('1') > 3):\n",
    "        #    continue\n",
    "        bini = ''.join(['0']*(5-len(bini))) + bini\n",
    "        bini = Series(np.array([c for c in bini]))\n",
    "        choices.append(list(bini[bini == '1'].index))\n",
    "    return choices"
   ]
  },
  {
   "cell_type": "code",
   "execution_count": 18,
   "metadata": {
    "collapsed": true
   },
   "outputs": [],
   "source": [
    "# \"greedy_choice\" is the function that takes in a \"Hand\" object as input and outputs the subset\n",
    "# (as a list of positions) that maximizes the metric defined in the last section.\n",
    "def greedy_choice(hand, choices=second_choices()):\n",
    "    assert(type(hand) == Hand and len(hand.pattern) == 5)\n",
    "    \n",
    "    scored_choices = [[choice, base_score(hand, choice)] for choice in choices]\n",
    "    options = DataFrame(scored_choices, columns=['To Roll', 'Score'])\n",
    "    options = options.sort_values('Score', ascending=False)\n",
    "    \n",
    "    return options.loc[options['Score'].idxmax()]['To Roll']"
   ]
  },
  {
   "cell_type": "markdown",
   "metadata": {},
   "source": [
    "# Computing Losses\n",
    "We will assume that the opponent will play the best (for the opponent) possible move and then compute the probability of not winning."
   ]
  },
  {
   "cell_type": "code",
   "execution_count": 19,
   "metadata": {
    "collapsed": true
   },
   "outputs": [],
   "source": [
    "# \"p_loss\" computes the probability of not winning if we roll \"to_roll1\" and the opponent rolls \"to_roll2\" if our current\n",
    "# hand is \"hand1\" and the opponent's current hand is \"hand2\".\n",
    "def p_loss(hand1, to_roll1, hand2, to_roll2):\n",
    "    assert(type(hand1) == Hand and type(hand2) == Hand)\n",
    "    \n",
    "    chances1 = chances(hand1, to_roll1)\n",
    "    chances2 = chances(hand2, to_roll2)\n",
    "    \n",
    "    return sum([chances1['Probability'][i1] * chances2['Probability'][i2] for i1 in chances1.index for i2 in chances2.index if chances1['Score'][i1] <= chances2['Score'][i2]])"
   ]
  },
  {
   "cell_type": "code",
   "execution_count": 20,
   "metadata": {
    "collapsed": true
   },
   "outputs": [],
   "source": [
    "# \"p_loss_max\" computes the probability of not winning if we roll \"to_roll1\" given that our current hand is \"hand1\"\n",
    "# and the opponent's current hand is \"hand2\", assuming that the opponent will play the move that maximizes his\n",
    "# chance of winning.\n",
    "def p_loss_max(hand1, to_roll1, hand2, rolls=[]):\n",
    "    #start_time = time.time()\n",
    "    if(rolls == []):\n",
    "        rolls = second_choices()\n",
    "    \n",
    "    p_losses = [p_loss(hand1, to_roll1, hand2, to_roll2) for to_roll2 in rolls]\n",
    "    p_max = max(p_losses)\n",
    "    return p_max"
   ]
  },
  {
   "cell_type": "markdown",
   "metadata": {},
   "source": [
    "## How good is the greedy optimizer?\n",
    "Now that have the functions to compute our chances of not winning, we can try to figure out how well the greedy optimzer works. Since this game is completely symmetric between the two players, if both of them plays perfectly, the distribution of the outcomes should be perfectly symmetric, i.e., if we play a large number of times, after the first roll, assuming perfect play, our chances of not winning should follow a symmetric distribution with mean 0.5. Let's see how our greedy optimzer fares in this respect."
   ]
  },
  {
   "cell_type": "code",
   "execution_count": 21,
   "metadata": {},
   "outputs": [
    {
     "name": "stdout",
     "output_type": "stream",
     "text": [
      "Mean: 0.514138395324, Median: 0.515367798354\n"
     ]
    },
    {
     "data": {
      "image/png": "[encoded data removed]",
      "text/plain": [
       "<matplotlib.figure.Figure at 0x20c0d834710>"
      ]
     },
     "metadata": {},
     "output_type": "display_data"
    },
    {
     "name": "stdout",
     "output_type": "stream",
     "text": [
      "Time took: 333.81330132484436s.\n"
     ]
    }
   ],
   "source": [
    "if(__name__ == '__main__'):\n",
    "    start_time = time.time()\n",
    "    sample_size = 200\n",
    "    n_bins = int(sample_size/10)\n",
    "    rolls = second_choices()\n",
    "    p_loss_distro = [(lambda x: p_loss_max(x, greedy_choice(x, choices=rolls), roll(), rolls))(roll()) for i in range(sample_size)]\n",
    "    plt.hist(p_loss_distro, bins=n_bins, range=(0,1))\n",
    "    plt.xlabel('Maximum Probability of Loss')\n",
    "    plt.ylabel('Frequency')\n",
    "    print('Mean: ' + str(np.mean(p_loss_distro)) + ', Median: ' + str(np.median(p_loss_distro)))\n",
    "    plt.show()\n",
    "    print('Time took: ' + str(time.time()-start_time) + 's.')"
   ]
  },
  {
   "cell_type": "markdown",
   "metadata": {},
   "source": [
    "We see that the mean and the median of the distribution are farely close to 0.5 which tells us that the greedy optimzer is pretty close to being truly optimum. The defect of the greedy optimizer is almost noticable in the graph above, the graph has some relatively high values near one, which is due to the fact that the greedy optimizer always tries to maximize the expected value of our final score, even when doing so means that we absolutely can not win. These cases, when the greedy optimizer is particularly bad, our chances of winning are slim anyway and going back to my original motivation for writing this notebook, I will just reload the game from the last save point, which is of course immediately prior to beginning the game (ragardless of how many orens I have, I am not going to loose even 20 of them because of chance!)\n",
    "\n",
    "That being said, there is still room for fine tuning in the greedy optimizer."
   ]
  },
  {
   "cell_type": "markdown",
   "metadata": {},
   "source": [
    "# The Optimum Move\n",
    "> The optimum choice is the one that minimizes the maximum probability of not winning.\n",
    "\n",
    "It is actually completely straightforward to define and much simpler than the greedy choice, unfortunately it is also much slower."
   ]
  },
  {
   "cell_type": "code",
   "execution_count": 22,
   "metadata": {
    "collapsed": true
   },
   "outputs": [],
   "source": [
    "# the \"optimize\" function takes in two \"Hand\" objects, and outputs a \"Series\" object with two indices, \"Roll' and \"P_loss\".\n",
    "# The \"Roll\" value corresponds to the optimum choice of subset of the \"hand1\" to roll and the \"P_loss\" value corresponds\n",
    "# to the maximum probability of not winning when we roll the optimum choice.\n",
    "# It simply goes through all the possible subsets of \"hand1\", for each it finds the move for \"hand2\" that\n",
    "# maximizes the probability of loss for \"hand1\" and then chooses the subset that corresonds to the minimum\n",
    "# of such probabilities.\n",
    "def optimize(hand1, hand2):\n",
    "    rolls = second_choices()\n",
    "    \n",
    "    roll_p_loss = [[to_roll1, p_loss_max(hand1, to_roll1, hand2, rolls)] for to_roll1 in rolls]\n",
    "    roll_p_loss = DataFrame(roll_p_loss, columns=['Roll', 'P_loss'])\n",
    "    min_id = roll_p_loss['P_loss'].idxmin()\n",
    "    \n",
    "    return roll_p_loss.loc[min_id]"
   ]
  },
  {
   "cell_type": "markdown",
   "metadata": {},
   "source": [
    "Finally, let us look at both of our optimizers (the greedy one and the truly optimum one) in action with some randomly generated (or manually provided) test cases."
   ]
  },
  {
   "cell_type": "code",
   "execution_count": 28,
   "metadata": {},
   "outputs": [
    {
     "name": "stdout",
     "output_type": "stream",
     "text": [
      "My hand: 36611, Opponent's hand: 64352\n",
      "greedy choice: [0, 3, 4], Max p of loss: 0.8333333333333335\n",
      "Time took: 2.106062650680542s.\n",
      "Optimum choice: [0], Max p of loss: 0.666666666667\n",
      "Time took: 53.48362398147583s.\n"
     ]
    }
   ],
   "source": [
    "if(__name__ == '__main__'):\n",
    "    start_time = time.time()\n",
    "    \n",
    "    # To use this for the purpose of playing actual games (as in The Witcher 2), replace \"roll()\" in the following\n",
    "    # two lines with two length 5 strings containing numbers only representing dices.\n",
    "    #hand_my = roll() # Replace with the player's hand, example: Hand('51342').\n",
    "    #hand_op = roll() # Replace with the opponent's hand, example: Hand('34323').\n",
    "    hand_my = Hand('36611')\n",
    "    hand_op = Hand('64352')\n",
    "    print('My hand: ' + str(hand_my) + ', Opponent\\'s hand: ' + str(hand_op))\n",
    "    \n",
    "    base = greedy_choice(hand_my)\n",
    "    print('greedy choice: ' + str(base) + ', Max p of loss: ' + str(p_loss_max(hand_my, base, hand_op)))\n",
    "    print('Time took: ' + str(time.time() - start_time) + 's.')\n",
    "    start_time = time.time()\n",
    "    \n",
    "    opt_choice = optimize(hand_my, hand_op)\n",
    "    print('Optimum choice: ' + str(opt_choice['Roll']) + ', Max p of loss: ' + str(opt_choice['P_loss']))\n",
    "    print('Time took: ' + str(time.time()-start_time) + 's.')"
   ]
  },
  {
   "cell_type": "code",
   "execution_count": null,
   "metadata": {
    "collapsed": true
   },
   "outputs": [],
   "source": []
  }
 ],
 "metadata": {
  "kernelspec": {
   "display_name": "Python 3",
   "language": "python",
   "name": "python3"
  },
  "language_info": {
   "codemirror_mode": {
    "name": "ipython",
    "version": 3
   },
   "file_extension": ".py",
   "mimetype": "text/x-python",
   "name": "python",
   "nbconvert_exporter": "python",
   "pygments_lexer": "ipython3",
   "version": "3.6.1"
  }
 },
 "nbformat": 4,
 "nbformat_minor": 2
}
